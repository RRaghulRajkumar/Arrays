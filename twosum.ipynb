{
 "cells": [
  {
   "cell_type": "markdown",
   "id": "52fd4c2f",
   "metadata": {},
   "source": [
    "# Two Sum\n"
   ]
  },
  {
   "cell_type": "markdown",
   "id": "150d648c",
   "metadata": {},
   "source": [
    "### Given an array of integers nums and an integer target, return indices of the two numbers such that they add up to target.\n",
    "\n",
    "### You may assume that each input would have exactly one solution, and you may not use the same element twice.\n",
    "\n",
    "### You can return the answer in any order."
   ]
  },
  {
   "cell_type": "markdown",
   "id": "dde166e9",
   "metadata": {},
   "source": [
    "Example 1:\n",
    "\n",
    "Input: nums = [2,7,11,15], target = 9\n",
    "Output: [0,1]\n",
    "Explanation: Because nums[0] + nums[1] == 9, we return [0, 1]."
   ]
  },
  {
   "cell_type": "markdown",
   "id": "3c26ada7",
   "metadata": {},
   "source": [
    "Example 2:\n",
    "\n",
    "Input: nums = [3,2,4], target = 6\n",
    "Output: [1,2]"
   ]
  },
  {
   "cell_type": "markdown",
   "id": "c6edb84b",
   "metadata": {},
   "source": [
    "Example 3:\n",
    "\n",
    "Input: nums = [3,3], target = 6\n",
    "Output: [0,1]"
   ]
  },
  {
   "cell_type": "markdown",
   "id": "dfb5fd79",
   "metadata": {},
   "source": [
    "## first we are subtracting the target values with all the elements in the Array And then we are checking if the number exist in the hashmap if the subtracted values found in the hashmap then we will return the index of the difference and the subtracted value index if the value is not found we will be adding that element in the hash map"
   ]
  },
  {
   "cell_type": "code",
   "execution_count": null,
   "id": "852c67e7",
   "metadata": {},
   "outputs": [],
   "source": []
  },
  {
   "cell_type": "code",
   "execution_count": 23,
   "id": "f41422a0",
   "metadata": {},
   "outputs": [],
   "source": [
    "nums = [3,2,4]\n",
    "target = 6\n"
   ]
  },
  {
   "cell_type": "code",
   "execution_count": 24,
   "id": "4f4f6696",
   "metadata": {},
   "outputs": [],
   "source": [
    "\n",
    "    def twoSum(nums,taget):\n",
    "        PrevMap={}\n",
    "        for i,n in enumerate(nums):\n",
    "            diff=target-n\n",
    "            if diff in PrevMap:\n",
    "                return [PrevMap[diff],i]\n",
    "            PrevMap[n]=i\n",
    "        return \n",
    "    \n",
    "    "
   ]
  },
  {
   "cell_type": "code",
   "execution_count": 25,
   "id": "bc3b9cfe",
   "metadata": {},
   "outputs": [
    {
     "data": {
      "text/plain": [
       "[1, 2]"
      ]
     },
     "execution_count": 25,
     "metadata": {},
     "output_type": "execute_result"
    }
   ],
   "source": [
    "twoSum(nums,target)"
   ]
  },
  {
   "cell_type": "code",
   "execution_count": null,
   "id": "b9b28a60",
   "metadata": {},
   "outputs": [],
   "source": []
  }
 ],
 "metadata": {
  "kernelspec": {
   "display_name": "Python 3 (ipykernel)",
   "language": "python",
   "name": "python3"
  },
  "language_info": {
   "codemirror_mode": {
    "name": "ipython",
    "version": 3
   },
   "file_extension": ".py",
   "mimetype": "text/x-python",
   "name": "python",
   "nbconvert_exporter": "python",
   "pygments_lexer": "ipython3",
   "version": "3.9.13"
  }
 },
 "nbformat": 4,
 "nbformat_minor": 5
}
